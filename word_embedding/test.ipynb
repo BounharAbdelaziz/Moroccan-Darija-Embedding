{
 "cells": [
  {
   "cell_type": "code",
   "execution_count": 1,
   "metadata": {},
   "outputs": [
    {
     "name": "stderr",
     "output_type": "stream",
     "text": [
      "/home/infres/abounhar/.local/lib/python3.12/site-packages/tqdm/auto.py:21: TqdmWarning: IProgress not found. Please update jupyter and ipywidgets. See https://ipywidgets.readthedocs.io/en/stable/user_install.html\n",
      "  from .autonotebook import tqdm as notebook_tqdm\n"
     ]
    }
   ],
   "source": [
    "from fasttext import load_model\n",
    "from train import find_similar_words, evaluate_similarity\n",
    "import numpy as np"
   ]
  },
  {
   "cell_type": "code",
   "execution_count": 2,
   "metadata": {},
   "outputs": [],
   "source": [
    "def word_analogy(model, word1, word2, word3, top_k=5):\n",
    "    \"\"\"\n",
    "    Perform word analogy: word1 - word2 + word3 to predict the fourth word (word4).\n",
    "    Example: king - man + woman = queen\n",
    "    \"\"\"\n",
    "    # Get word vectors for word1, word2, and word3\n",
    "    vec1 = model.get_word_vector(word1)\n",
    "    vec2 = model.get_word_vector(word2)\n",
    "    vec3 = model.get_word_vector(word3)\n",
    "    \n",
    "    # Calculate the result vector: word1 - word2 + word3\n",
    "    result_vector = vec1 - vec2 + vec3\n",
    "    \n",
    "    # Get the nearest neighbors\n",
    "    words = model.get_words()  # List of words in the model\n",
    "    similarities = []\n",
    "    \n",
    "    for word in words:\n",
    "        word_vec = model.get_word_vector(word)\n",
    "        similarity = np.dot(result_vector, word_vec) / (np.linalg.norm(result_vector) * np.linalg.norm(word_vec))\n",
    "        similarities.append((similarity, word))\n",
    "    \n",
    "    # Sort by similarity and return top_k neighbors\n",
    "    similarities.sort(reverse=True, key=lambda x: x[0])\n",
    "    return similarities[:top_k]"
   ]
  },
  {
   "cell_type": "markdown",
   "metadata": {},
   "source": [
    "# Skipgram model\n",
    "Trained from scratch"
   ]
  },
  {
   "cell_type": "code",
   "execution_count": 23,
   "metadata": {},
   "outputs": [],
   "source": [
    "# load the model\n",
    "model = load_model('fasttext_skipgram_v0.bin')"
   ]
  },
  {
   "cell_type": "code",
   "execution_count": 4,
   "metadata": {},
   "outputs": [
    {
     "name": "stdout",
     "output_type": "stream",
     "text": [
      "Similarity between 'راجل' and 'مرا': 0.6732\n",
      "Similarity between 'رجل' and 'مرا': 0.4378\n",
      "Similarity between 'راجل' and 'مرأة': 0.6482\n",
      "Similarity between 'رجل' and 'مرأة': 0.5752\n",
      "Similarity between 'باك' and 'مك': 0.6148\n"
     ]
    }
   ],
   "source": [
    "# Example word pairs to test similarity\n",
    "word_pairs = [\n",
    "    ('راجل', 'مرا'),\n",
    "    ('رجل', 'مرا'),\n",
    "    ('راجل', 'مرأة'),\n",
    "    ('رجل', 'مرأة'),\n",
    "    ('باك', 'مك'),\n",
    "]\n",
    "\n",
    "evaluate_similarity(model, word_pairs)"
   ]
  },
  {
   "cell_type": "code",
   "execution_count": 5,
   "metadata": {},
   "outputs": [
    {
     "name": "stdout",
     "output_type": "stream",
     "text": [
      "\n",
      "Top 10 words similar to 'راجل':\n",
      "=راجل (Score: 0.9065)\n",
      "/راجل (Score: 0.8977)\n",
      "[راجل (Score: 0.8842)\n",
      "#راجل (Score: 0.8780)\n",
      "هراجل (Score: 0.8565)\n",
      "،راجل (Score: 0.8541)\n",
      "مراجل (Score: 0.8513)\n",
      "رراجل (Score: 0.8493)\n",
      "'راجل (Score: 0.8487)\n",
      "؟راجل (Score: 0.8480)\n",
      "\n",
      "Top 10 words similar to 'رجل':\n",
      "ورجل (Score: 0.7989)\n",
      "ك”رجل (Score: 0.7922)\n",
      ":رجل (Score: 0.7742)\n",
      "=رجل (Score: 0.7657)\n",
      "،رجل (Score: 0.7444)\n",
      "جلال{رجل (Score: 0.7400)\n",
      "برجل (Score: 0.7332)\n",
      "رجل/ (Score: 0.7188)\n",
      "«رجل (Score: 0.7185)\n",
      "رجل.وي (Score: 0.7053)\n",
      "\n",
      "Top 10 words similar to 'مرا':\n",
      "![مرا (Score: 0.8394)\n",
      "عومرا (Score: 0.8021)\n",
      "ومرا (Score: 0.7950)\n",
      "…مرا (Score: 0.7681)\n",
      "\"ومرا (Score: 0.7559)\n",
      "راجل/مرا (Score: 0.7505)\n",
      ")لمرا (Score: 0.7491)\n",
      "المرا (Score: 0.7435)\n",
      "ىمرا (Score: 0.7408)\n",
      "=مرا (Score: 0.7371)\n",
      "\n",
      "Top 10 words similar to 'مرأة':\n",
      "امرأة (Score: 0.8832)\n",
      "إمرأة (Score: 0.8740)\n",
      "مراة (Score: 0.8645)\n",
      "أمرأة (Score: 0.8583)\n",
      "امراة (Score: 0.8473)\n",
      "(إمرأة (Score: 0.8336)\n",
      "وكأمرأة (Score: 0.8285)\n",
      "كمرأة (Score: 0.8272)\n",
      "فامرأة (Score: 0.8267)\n",
      "تلمرأة (Score: 0.8266)\n",
      "\n",
      "Top 10 words similar to 'مك':\n",
      "ديلمك (Score: 0.8493)\n",
      "طاسيلتك (Score: 0.8454)\n",
      "ملتك (Score: 0.8453)\n",
      "تطاسيلتك (Score: 0.8255)\n",
      "طبنمك (Score: 0.8239)\n",
      "طاسيللتك (Score: 0.8209)\n",
      "طب**مك (Score: 0.8175)\n",
      "طاسيلت (Score: 0.8116)\n",
      "نح***طاسيلتك (Score: 0.8105)\n",
      "ط***نمك (Score: 0.8105)\n"
     ]
    }
   ],
   "source": [
    "find_similar_words(model, word='راجل', k=10)\n",
    "find_similar_words(model, word='رجل', k=10)\n",
    "find_similar_words(model, word='مرا', k=10)\n",
    "find_similar_words(model, word='مرأة', k=10)\n",
    "find_similar_words(model, word='مك', k=10)"
   ]
  },
  {
   "cell_type": "markdown",
   "metadata": {},
   "source": [
    "# CBOW model\n",
    "Trained from scratch"
   ]
  },
  {
   "cell_type": "code",
   "execution_count": 6,
   "metadata": {},
   "outputs": [],
   "source": [
    "# load the model\n",
    "model = load_model('fasttext_cbow_v0.bin')"
   ]
  },
  {
   "cell_type": "code",
   "execution_count": 7,
   "metadata": {},
   "outputs": [
    {
     "name": "stdout",
     "output_type": "stream",
     "text": [
      "Similarity between 'راجل' and 'مرا': 0.5745\n",
      "Similarity between 'رجل' and 'مرا': 0.2633\n",
      "Similarity between 'راجل' and 'مرأة': 0.5035\n",
      "Similarity between 'رجل' and 'مرأة': 0.4069\n",
      "Similarity between 'باك' and 'مك': 0.4034\n"
     ]
    }
   ],
   "source": [
    "# Example word pairs to test similarity\n",
    "word_pairs = [\n",
    "    ('راجل', 'مرا'),\n",
    "    ('رجل', 'مرا'),\n",
    "    ('راجل', 'مرأة'),\n",
    "    ('رجل', 'مرأة'),\n",
    "    ('باك', 'مك'),\n",
    "]\n",
    "\n",
    "evaluate_similarity(model, word_pairs)"
   ]
  },
  {
   "cell_type": "code",
   "execution_count": 8,
   "metadata": {},
   "outputs": [
    {
     "name": "stdout",
     "output_type": "stream",
     "text": [
      "\n",
      "Top 10 words similar to 'راجل':\n",
      "[راجل (Score: 0.9146)\n",
      "/راجل (Score: 0.9123)\n",
      "=راجل (Score: 0.9121)\n",
      "#راجل (Score: 0.9114)\n",
      ")راجل (Score: 0.9043)\n",
      "؟راجل (Score: 0.9003)\n",
      "-راجل (Score: 0.8959)\n",
      "'راجل (Score: 0.8904)\n",
      "راجل, (Score: 0.8882)\n",
      "،راجل (Score: 0.8871)\n",
      "\n",
      "Top 10 words similar to 'رجل':\n",
      "ك”رجل (Score: 0.8934)\n",
      ":رجل (Score: 0.8912)\n",
      "=رجل (Score: 0.8887)\n",
      "،رجل (Score: 0.8875)\n",
      "ررجل (Score: 0.8717)\n",
      "«رجل (Score: 0.8583)\n",
      "و\"رجل (Score: 0.8554)\n",
      ".رجل (Score: 0.8454)\n",
      "كرجل (Score: 0.8341)\n",
      "“رجل (Score: 0.8100)\n",
      "\n",
      "Top 10 words similar to 'مرا':\n",
      "…مرا (Score: 0.8889)\n",
      "،مرا (Score: 0.8808)\n",
      "=مرا (Score: 0.8777)\n",
      "'مرا (Score: 0.8754)\n",
      "![مرا (Score: 0.8737)\n",
      "مرامرا (Score: 0.8441)\n",
      "ىمرا (Score: 0.8440)\n",
      ")لمرا (Score: 0.8319)\n",
      "راجل/مرا (Score: 0.8194)\n",
      "-مرا (Score: 0.8119)\n",
      "\n",
      "Top 10 words similar to 'مرأة':\n",
      "كإمرأة (Score: 0.8819)\n",
      "(إمرأة (Score: 0.8792)\n",
      "مرأة2: (Score: 0.8746)\n",
      "امرأة (Score: 0.8712)\n",
      "-مرأة (Score: 0.8703)\n",
      "تلمرأة (Score: 0.8661)\n",
      "إمرأة (Score: 0.8623)\n",
      "فامرأة (Score: 0.8484)\n",
      "وكأمرأة (Score: 0.8453)\n",
      "ومرأة (Score: 0.8434)\n",
      "\n",
      "Top 10 words similar to 'مك':\n",
      "مكمك (Score: 0.8242)\n",
      "ؤمك (Score: 0.7930)\n",
      "ط***نمك (Score: 0.7919)\n",
      "ديلمك (Score: 0.7859)\n",
      "د_مك (Score: 0.7812)\n",
      "دنمك (Score: 0.7759)\n",
      ")دينمك (Score: 0.7754)\n",
      "ف***مك (Score: 0.7648)\n",
      "د**مك (Score: 0.7647)\n",
      "طبنمك (Score: 0.7624)\n"
     ]
    }
   ],
   "source": [
    "find_similar_words(model, word='راجل', k=10)\n",
    "find_similar_words(model, word='رجل', k=10)\n",
    "find_similar_words(model, word='مرا', k=10)\n",
    "find_similar_words(model, word='مرأة', k=10)\n",
    "find_similar_words(model, word='مك', k=10)"
   ]
  },
  {
   "cell_type": "code",
   "execution_count": 18,
   "metadata": {},
   "outputs": [
    {
     "data": {
      "text/plain": [
       "[(0.7938787, 'ملك'),\n",
       " (0.7415985, 'ملك؛'),\n",
       " (0.74077106, 'ملك…'),\n",
       " (0.71872395, 'ملكى'),\n",
       " (0.7130859, 'ملكاً')]"
      ]
     },
     "execution_count": 18,
     "metadata": {},
     "output_type": "execute_result"
    }
   ],
   "source": [
    "# Perform word analogy: word1 - word2 + word3 to predict the fourth word (word4).\n",
    "# Example: king - man + woman = queen\n",
    "word_analogy(model, word1='ملك', word2='راجل', word3='مرأة')"
   ]
  },
  {
   "cell_type": "code",
   "execution_count": 19,
   "metadata": {},
   "outputs": [
    {
     "data": {
      "text/plain": [
       "[(0.6445792, 'ملك'),\n",
       " (0.5912996, 'ب\"ملك'),\n",
       " (0.5876373, \"'ملك\"),\n",
       " (0.5839689, '\"*ملك'),\n",
       " (0.5831766, '،ملك')]"
      ]
     },
     "execution_count": 19,
     "metadata": {},
     "output_type": "execute_result"
    }
   ],
   "source": [
    "# Perform word analogy: word1 - word2 + word3 to predict the fourth word (word4).\n",
    "# Example: king - man + woman = queen\n",
    "word_analogy(model, word1='ملك', word2='رجل', word3='مرأة')"
   ]
  },
  {
   "cell_type": "code",
   "execution_count": 20,
   "metadata": {},
   "outputs": [
    {
     "data": {
      "text/plain": [
       "[(0.6107284, 'ملك'),\n",
       " (0.56964546, '،ملك'),\n",
       " (0.5693874, \"'ملك\"),\n",
       " (0.5685666, 'ب\"ملك'),\n",
       " (0.5629976, '\"*ملك')]"
      ]
     },
     "execution_count": 20,
     "metadata": {},
     "output_type": "execute_result"
    }
   ],
   "source": [
    "# Perform word analogy: word1 - word2 + word3 to predict the fourth word (word4).\n",
    "# Example: king - man + woman = queen\n",
    "word_analogy(model, word1='ملك', word2='رجل', word3='مراة')"
   ]
  },
  {
   "cell_type": "code",
   "execution_count": 21,
   "metadata": {},
   "outputs": [
    {
     "data": {
      "text/plain": [
       "[(0.59764856, 'مرا'),\n",
       " (0.54374105, 'ملك'),\n",
       " (0.50879276, '…مرا'),\n",
       " (0.50743216, '،مرا'),\n",
       " (0.5070816, 'مضمرا')]"
      ]
     },
     "execution_count": 21,
     "metadata": {},
     "output_type": "execute_result"
    }
   ],
   "source": [
    "# Perform word analogy: word1 - word2 + word3 to predict the fourth word (word4).\n",
    "# Example: king - man + woman = queen\n",
    "word_analogy(model, word1='ملك', word2='رجل', word3='مرا')"
   ]
  },
  {
   "cell_type": "code",
   "execution_count": 22,
   "metadata": {},
   "outputs": [
    {
     "data": {
      "text/plain": [
       "[(0.7233809, 'ملك'),\n",
       " (0.66944826, 'ملك؛'),\n",
       " (0.66250694, 'ملك…'),\n",
       " (0.6550784, 'ملكا'),\n",
       " (0.6550542, 'ملكبة')]"
      ]
     },
     "execution_count": 22,
     "metadata": {},
     "output_type": "execute_result"
    }
   ],
   "source": [
    "# Perform word analogy: word1 - word2 + word3 to predict the fourth word (word4).\n",
    "# Example: king - man + woman = queen\n",
    "word_analogy(model, word1='ملك', word2='راجل', word3='مرا')"
   ]
  },
  {
   "cell_type": "code",
   "execution_count": 24,
   "metadata": {},
   "outputs": [
    {
     "data": {
      "text/plain": [
       "[(0.71703374, 'ملك'),\n",
       " (0.6302972, 'ملكى'),\n",
       " (0.6290631, 'ملكة^.'),\n",
       " (0.6266298, 'مراكيز'),\n",
       " (0.6172255, 'مذمرة')]"
      ]
     },
     "execution_count": 24,
     "metadata": {},
     "output_type": "execute_result"
    }
   ],
   "source": [
    "# Perform word analogy: word1 - word2 + word3 to predict the fourth word (word4).\n",
    "# Example: king - man + woman = queen\n",
    "word_analogy(model, word1='ملك', word2='راجل', word3='مرا')"
   ]
  },
  {
   "cell_type": "markdown",
   "metadata": {},
   "source": [
    "# finetuned skipgram"
   ]
  },
  {
   "cell_type": "code",
   "execution_count": 3,
   "metadata": {},
   "outputs": [],
   "source": [
    "# load the model\n",
    "model_ft = load_model('fasttext_skipgram_vft_0.bin')"
   ]
  },
  {
   "cell_type": "code",
   "execution_count": 6,
   "metadata": {},
   "outputs": [
    {
     "data": {
      "text/plain": [
       "[(0.72983986, 'ملك'),\n",
       " (0.64226836, '\\xadالملك'),\n",
       " (0.6392498, 'ملكة^.'),\n",
       " (0.63371533, 'ملك…'),\n",
       " (0.6259298, '؟الملك')]"
      ]
     },
     "execution_count": 6,
     "metadata": {},
     "output_type": "execute_result"
    }
   ],
   "source": [
    "# Perform word analogy: word1 - word2 + word3 to predict the fourth word (word4).\n",
    "# Example: king - man + woman = queen\n",
    "word_analogy(model_ft, word1='ملك', word2='راجل', word3='مرا')"
   ]
  },
  {
   "cell_type": "code",
   "execution_count": 10,
   "metadata": {},
   "outputs": [
    {
     "data": {
      "text/plain": [
       "[(0.5926169, 'ملك'),\n",
       " (0.5788265, '،ملك'),\n",
       " (0.5725579, \"'ملك\"),\n",
       " (0.56963116, 'ب\"ملك'),\n",
       " (0.5662609, '\"*ملك')]"
      ]
     },
     "execution_count": 10,
     "metadata": {},
     "output_type": "execute_result"
    }
   ],
   "source": [
    "# Perform word analogy: word1 - word2 + word3 to predict the fourth word (word4).\n",
    "# Example: king - man + woman = queen\n",
    "word_analogy(model_ft, word1='ملك', word2='رجل', word3='مراة')"
   ]
  },
  {
   "cell_type": "markdown",
   "metadata": {},
   "source": [
    "# finetuned cbow"
   ]
  },
  {
   "cell_type": "code",
   "execution_count": 7,
   "metadata": {},
   "outputs": [],
   "source": [
    "# load the model\n",
    "model_cbow_v1 = load_model('fasttext_cbow_v1.bin')"
   ]
  },
  {
   "cell_type": "code",
   "execution_count": 8,
   "metadata": {},
   "outputs": [
    {
     "data": {
      "text/plain": [
       "[(0.6718948, 'ملك'),\n",
       " (0.6669533, 'ملكة^.'),\n",
       " (0.66431314, 'مراثا'),\n",
       " (0.6603274, 'مرأى'),\n",
       " (0.6575509, 'ملكك')]"
      ]
     },
     "execution_count": 8,
     "metadata": {},
     "output_type": "execute_result"
    }
   ],
   "source": [
    "# Perform word analogy: word1 - word2 + word3 to predict the fourth word (word4).\n",
    "# Example: king - man + woman = queen\n",
    "word_analogy(model_cbow_v1, word1='ملك', word2='راجل', word3='مرا')"
   ]
  },
  {
   "cell_type": "code",
   "execution_count": 9,
   "metadata": {},
   "outputs": [
    {
     "data": {
      "text/plain": [
       "[(0.56534886, 'ملك'),\n",
       " (0.53648967, 'ملكش'),\n",
       " (0.5363179, 'محملك'),\n",
       " (0.5303863, 'وفحملك'),\n",
       " (0.52712154, 'دحملك')]"
      ]
     },
     "execution_count": 9,
     "metadata": {},
     "output_type": "execute_result"
    }
   ],
   "source": [
    "# Perform word analogy: word1 - word2 + word3 to predict the fourth word (word4).\n",
    "# Example: king - man + woman = queen\n",
    "word_analogy(model_cbow_v1, word1='ملك', word2='رجل', word3='مراة')"
   ]
  },
  {
   "cell_type": "code",
   "execution_count": null,
   "metadata": {},
   "outputs": [],
   "source": []
  }
 ],
 "metadata": {
  "kernelspec": {
   "display_name": "Python 3",
   "language": "python",
   "name": "python3"
  },
  "language_info": {
   "codemirror_mode": {
    "name": "ipython",
    "version": 3
   },
   "file_extension": ".py",
   "mimetype": "text/x-python",
   "name": "python",
   "nbconvert_exporter": "python",
   "pygments_lexer": "ipython3",
   "version": "3.12.3"
  }
 },
 "nbformat": 4,
 "nbformat_minor": 2
}
