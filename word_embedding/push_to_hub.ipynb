{
 "cells": [
  {
   "cell_type": "code",
   "execution_count": 5,
   "metadata": {},
   "outputs": [],
   "source": [
    "from huggingface_hub import HfApi, upload_file"
   ]
  },
  {
   "cell_type": "code",
   "execution_count": 6,
   "metadata": {},
   "outputs": [],
   "source": [
    "def create_repo_if_not_exists(repo_name):\n",
    "    \"\"\"\n",
    "    Create the repository on Hugging Face if it doesn't already exist.\n",
    "    \"\"\"\n",
    "    api = HfApi()\n",
    "    try:\n",
    "        # Check if the repo exists\n",
    "        api.repo_info(repo_name)\n",
    "        print(f\"Repository '{repo_name}' already exists.\")\n",
    "    except:\n",
    "        # If the repo doesn't exist, create it\n",
    "        print(f\"Repository '{repo_name}' not found. Creating it...\")\n",
    "        api.create_repo(repo_name, repo_type=\"model\")\n",
    "        print(f\"Repository '{repo_name}' created successfully.\")\n",
    "        \n",
    "        \n",
    "def push_model_to_hf_hub(model_path, model_name_in_repo, repo_name):\n",
    "    \"\"\"\n",
    "    Push the trained FastText model to Hugging Face Hub after checking/creating the repository.\n",
    "    \"\"\"\n",
    "    # check if repo exist and create it otherwise\n",
    "    create_repo_if_not_exists(repo_name)\n",
    "    \n",
    "    # Upload the model file to Hugging Face Hub\n",
    "    upload_file(\n",
    "        path_or_fileobj=model_path,\n",
    "        path_in_repo=model_name_in_repo,  # The name of the file on the Hub\n",
    "        repo_id=repo_name,\n",
    "        repo_type=\"model\"\n",
    "    )\n",
    "    print(f\"Model pushed to Hugging Face Hub at https://huggingface.co/{repo_name}\")"
   ]
  },
  {
   "cell_type": "code",
   "execution_count": 9,
   "metadata": {},
   "outputs": [],
   "source": [
    "model_path = \"fasttext_cbow_v0.bin\"\n",
    "model_name_in_repo = \"fasttext_cbow_v0\"\n",
    "repo_name = \"atlasia/Moroccan-Darija-Embedding\""
   ]
  },
  {
   "cell_type": "code",
   "execution_count": 10,
   "metadata": {},
   "outputs": [
    {
     "name": "stdout",
     "output_type": "stream",
     "text": [
      "Repository 'atlasia/Moroccan-Darija-Embedding' already exists.\n"
     ]
    },
    {
     "name": "stderr",
     "output_type": "stream",
     "text": [
      "fasttext_cbow_v0.bin: 100%|██████████| 9.25G/9.25G [03:46<00:00, 40.8MB/s]\n"
     ]
    },
    {
     "name": "stdout",
     "output_type": "stream",
     "text": [
      "Model pushed to Hugging Face Hub at https://huggingface.co/atlasia/Moroccan-Darija-Embedding\n"
     ]
    }
   ],
   "source": [
    "push_model_to_hf_hub(model_path, model_name_in_repo, repo_name)"
   ]
  }
 ],
 "metadata": {
  "kernelspec": {
   "display_name": "Python 3",
   "language": "python",
   "name": "python3"
  },
  "language_info": {
   "codemirror_mode": {
    "name": "ipython",
    "version": 3
   },
   "file_extension": ".py",
   "mimetype": "text/x-python",
   "name": "python",
   "nbconvert_exporter": "python",
   "pygments_lexer": "ipython3",
   "version": "3.12.3"
  }
 },
 "nbformat": 4,
 "nbformat_minor": 2
}
