{
 "cells": [
  {
   "cell_type": "code",
   "execution_count": null,
   "metadata": {},
   "outputs": [],
   "source": [
    "from sentence_transformers import SentenceTransformer"
   ]
  },
  {
   "cell_type": "code",
   "execution_count": null,
   "metadata": {},
   "outputs": [],
   "source": [
    "# Download from the 🤗 Hub\n",
    "model = SentenceTransformer(\"atlasia/bert-base-multilingual-uncased-bs-2048-lr-0.2-ep-20-wp-0.05-gacc-1-gnm-1.0-v0.1\")"
   ]
  },
  {
   "cell_type": "code",
   "execution_count": null,
   "metadata": {},
   "outputs": [
    {
     "data": {
      "text/plain": [
       "(4, 1024)\n",
       "tensor([[ 1.0000,  0.7139,  0.2953,  0.0725],\n",
       "        [ 0.7139,  1.0000,  0.4156, -0.0134],\n",
       "        [ 0.2953,  0.4156,  1.0000, -0.0476],\n",
       "        [ 0.0725, -0.0134, -0.0476,  1.0000]])\n"
      ]
     },
     "metadata": {},
     "output_type": "display_data"
    }
   ],
   "source": [
    "# Run inference\n",
    "sentences = [\n",
    "    'شكون لي خترع القرص المزخرف؟',\n",
    "    'شكون لي خترع القرص ',\n",
    "    'شكون هو اللي اخترع القرص ',\n",
    "    'ماهي عواقب مصاريف المخزن على الاقتصاد المغربي؟',\n",
    "]\n",
    "embeddings = model.encode(sentences)\n",
    "print(embeddings.shape)\n",
    "# [3, 1024]\n",
    "\n",
    "# Get the similarity scores for the embeddings\n",
    "similarities = model.similarity(embeddings, embeddings)\n",
    "print(similarities)"
   ]
  },
  {
   "cell_type": "code",
   "execution_count": null,
   "metadata": {},
   "outputs": [
    {
     "data": {
      "text/plain": [
       "(3, 1024)\n",
       "tensor([[ 1.0000,  0.3987,  0.0680],\n",
       "        [ 0.3987,  1.0000, -0.0506],\n",
       "        [ 0.0680, -0.0506,  1.0000]])\n"
      ]
     },
     "metadata": {},
     "output_type": "display_data"
    }
   ],
   "source": [
    "\n",
    "# Run inference\n",
    "sentences = [\n",
    "    'شكون لي خترع القرص المزخرف؟',\n",
    "    'شكون هو اللي اخترع القرص المزركش',\n",
    "    'ماهي عواقب مصاريف المخزن على الاقتصاد المغربي؟',\n",
    "]\n",
    "embeddings = model.encode(sentences)\n",
    "print(embeddings.shape)\n",
    "# [3, 1024]\n",
    "\n",
    "# Get the similarity scores for the embeddings\n",
    "similarities = model.similarity(embeddings, embeddings)\n",
    "print(similarities)"
   ]
  },
  {
   "cell_type": "code",
   "execution_count": null,
   "metadata": {},
   "outputs": [],
   "source": []
  }
 ],
 "metadata": {
  "language_info": {
   "name": "python"
  }
 },
 "nbformat": 4,
 "nbformat_minor": 2
}
