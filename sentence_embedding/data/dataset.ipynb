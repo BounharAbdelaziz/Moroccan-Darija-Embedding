{
 "cells": [
  {
   "cell_type": "code",
   "execution_count": 1,
   "metadata": {},
   "outputs": [
    {
     "name": "stderr",
     "output_type": "stream",
     "text": [
      "/home/infres/abounhar/.local/lib/python3.12/site-packages/tqdm/auto.py:21: TqdmWarning: IProgress not found. Please update jupyter and ipywidgets. See https://ipywidgets.readthedocs.io/en/stable/user_install.html\n",
      "  from .autonotebook import tqdm as notebook_tqdm\n"
     ]
    }
   ],
   "source": [
    "from datasets import load_dataset, concatenate_datasets\n",
    "import os\n",
    "os.environ[\"CUDA_VISIBLE_DEVICES\"] = \"1\""
   ]
  },
  {
   "cell_type": "code",
   "execution_count": 3,
   "metadata": {},
   "outputs": [
    {
     "name": "stderr",
     "output_type": "stream",
     "text": [
      "Generating train split: 100%|██████████| 10000/10000 [00:02<00:00, 4218.43 examples/s]\n",
      "Generating train split: 100%|██████████| 2863/2863 [00:00<00:00, 49337.86 examples/s]\n"
     ]
    }
   ],
   "source": [
    "# Load dataset\n",
    "dataset_1 = load_dataset(\"atlasia/mldr-moroccan-darija-nano\", split=\"train\")\n",
    "dataset_2 = load_dataset(\"atlasia/miracl-moroccan-darija-nano\", split=\"train\")"
   ]
  },
  {
   "cell_type": "code",
   "execution_count": null,
   "metadata": {},
   "outputs": [],
   "source": []
  },
  {
   "cell_type": "code",
   "execution_count": null,
   "metadata": {},
   "outputs": [],
   "source": [
    "dataset_1 = dataset_1.add_column('original_source', ['sentence-transformers/mldr'] * len(dataset_1))\n",
    "dataset_1 = dataset_1.add_column('translation_model', ['BounharAbdelaziz/Terjman-Nano-v2.2'] * len(dataset_1))\n",
    "\n",
    "dataset_2 = dataset_2.add_column('original_source', ['sentence-transformers/miracl'] * len(dataset_2))\n",
    "dataset_2 = dataset_2.add_column('translation_model', ['BounharAbdelaziz/Terjman-Nano-v2.2'] * len(dataset_2))"
   ]
  },
  {
   "cell_type": "code",
   "execution_count": 8,
   "metadata": {},
   "outputs": [],
   "source": [
    "dataset = concatenate_datasets([dataset_1, dataset_2])"
   ]
  },
  {
   "cell_type": "code",
   "execution_count": 9,
   "metadata": {},
   "outputs": [
    {
     "data": {
      "text/plain": [
       "Dataset({\n",
       "    features: ['anchor', 'positive', 'negative', 'metadata', 'original_source', 'translation_model'],\n",
       "    num_rows: 12863\n",
       "})"
      ]
     },
     "execution_count": 9,
     "metadata": {},
     "output_type": "execute_result"
    }
   ],
   "source": [
    "dataset"
   ]
  },
  {
   "cell_type": "code",
   "execution_count": 10,
   "metadata": {},
   "outputs": [],
   "source": [
    "# Define new column order\n",
    "new_column_order = [\"anchor\", \"positive\", \"negative\", \"original_source\", \"translation_model\", \"metadata\"]\n",
    "\n",
    "# Reorder dataset columns\n",
    "dataset = dataset.select_columns(new_column_order)"
   ]
  },
  {
   "cell_type": "code",
   "execution_count": 11,
   "metadata": {},
   "outputs": [
    {
     "data": {
      "text/plain": [
       "Dataset({\n",
       "    features: ['anchor', 'positive', 'negative', 'original_source', 'translation_model', 'metadata'],\n",
       "    num_rows: 12863\n",
       "})"
      ]
     },
     "execution_count": 11,
     "metadata": {},
     "output_type": "execute_result"
    }
   ],
   "source": [
    "dataset"
   ]
  },
  {
   "cell_type": "code",
   "execution_count": 12,
   "metadata": {},
   "outputs": [
    {
     "name": "stderr",
     "output_type": "stream",
     "text": [
      "Creating parquet from Arrow format: 100%|██████████| 13/13 [00:04<00:00,  2.84ba/s]\n",
      "Uploading the dataset shards: 100%|██████████| 1/1 [00:13<00:00, 13.73s/it]\n"
     ]
    },
    {
     "data": {
      "text/plain": [
       "CommitInfo(commit_url='https://huggingface.co/datasets/atlasia/Sentence-Transformers-Triplet-Morocco-Darija/commit/749d653c26debdf078704a4ab2d8a84499f85f17', commit_message='Translation of sentence-transformers/mldr and sentence-transformers/miracl using BounharAbdelaziz/Terjman-Nano-v2.2', commit_description='', oid='749d653c26debdf078704a4ab2d8a84499f85f17', pr_url=None, repo_url=RepoUrl('https://huggingface.co/datasets/atlasia/Sentence-Transformers-Triplet-Morocco-Darija', endpoint='https://huggingface.co', repo_type='dataset', repo_id='atlasia/Sentence-Transformers-Triplet-Morocco-Darija'), pr_revision=None, pr_num=None)"
      ]
     },
     "execution_count": 12,
     "metadata": {},
     "output_type": "execute_result"
    }
   ],
   "source": [
    "dataset.push_to_hub('atlasia/Sentence-Transformers-Triplet-Morocco-Darija', commit_message=f'Translation of sentence-transformers/mldr and sentence-transformers/miracl using BounharAbdelaziz/Terjman-Nano-v2.2')"
   ]
  },
  {
   "cell_type": "code",
   "execution_count": 18,
   "metadata": {},
   "outputs": [
    {
     "name": "stderr",
     "output_type": "stream",
     "text": [
      "Creating parquet from Arrow format: 100%|██████████| 37/37 [00:00<00:00, 77.77ba/s]\n",
      "Creating parquet from Arrow format: 100%|██████████| 37/37 [00:04<00:00,  7.69ba/s]\n"
     ]
    }
   ],
   "source": [
    "# Push each dataset separately with different config names\n",
    "dataset['triplet'].push_to_hub(\n",
    "    'atlasia/Sentence-Transformers-Triplet-Morocco-Darija',\n",
    "    config_name='triplet',\n",
    "    commit_message='Putting in triplet config'\n",
    ")"
   ]
  },
  {
   "cell_type": "markdown",
   "metadata": {},
   "source": [
    "# Add data"
   ]
  },
  {
   "cell_type": "code",
   "execution_count": 1,
   "metadata": {},
   "outputs": [
    {
     "name": "stderr",
     "output_type": "stream",
     "text": [
      "/home/infres/abounhar/.local/lib/python3.12/site-packages/tqdm/auto.py:21: TqdmWarning: IProgress not found. Please update jupyter and ipywidgets. See https://ipywidgets.readthedocs.io/en/stable/user_install.html\n",
      "  from .autonotebook import tqdm as notebook_tqdm\n"
     ]
    }
   ],
   "source": [
    "from datasets import (\n",
    "    load_dataset, \n",
    "    concatenate_datasets,\n",
    "    Dataset,\n",
    "    DatasetDict\n",
    ")\n",
    "import os\n",
    "os.environ[\"CUDA_VISIBLE_DEVICES\"] = \"1\""
   ]
  },
  {
   "cell_type": "code",
   "execution_count": 13,
   "metadata": {},
   "outputs": [],
   "source": [
    "BASE_DATASET = 'sentence-transformers/all-nli--pair-score'\n",
    "TRANS_MODEL = 'BounharAbdelaziz/Terjman-Ultra-v2.2'"
   ]
  },
  {
   "cell_type": "code",
   "execution_count": 10,
   "metadata": {},
   "outputs": [
    {
     "name": "stderr",
     "output_type": "stream",
     "text": [
      "Generating train split: 100%|██████████| 200000/200000 [00:01<00:00, 108491.43 examples/s]\n"
     ]
    }
   ],
   "source": [
    "new_dataset = load_dataset(\"atlasia/all-nli-pair-score-moroccan-darija-ultra\", split=\"train\")"
   ]
  },
  {
   "cell_type": "code",
   "execution_count": 12,
   "metadata": {},
   "outputs": [
    {
     "data": {
      "text/plain": [
       "Dataset({\n",
       "    features: ['sentence1', 'sentence2', 'score', 'metadata'],\n",
       "    num_rows: 200000\n",
       "})"
      ]
     },
     "execution_count": 12,
     "metadata": {},
     "output_type": "execute_result"
    }
   ],
   "source": [
    "new_dataset"
   ]
  },
  {
   "cell_type": "code",
   "execution_count": 20,
   "metadata": {},
   "outputs": [
    {
     "data": {
      "image/png": "[encoded data removed]",
      "text/plain": [
       "<Figure size 640x480 with 1 Axes>"
      ]
     },
     "metadata": {},
     "output_type": "display_data"
    }
   ],
   "source": [
    "# plot distribution of scores\n",
    "import matplotlib.pyplot as plt\n",
    "import seaborn as sns\n",
    "sns.histplot(new_dataset['score'])\n",
    "plt.show()"
   ]
  },
  {
   "cell_type": "code",
   "execution_count": 14,
   "metadata": {},
   "outputs": [],
   "source": [
    "new_dataset = new_dataset.add_column('original_source', [BASE_DATASET] * len(new_dataset))\n",
    "new_dataset = new_dataset.add_column('translation_model', [TRANS_MODEL] * len(new_dataset))"
   ]
  },
  {
   "cell_type": "code",
   "execution_count": 15,
   "metadata": {},
   "outputs": [
    {
     "data": {
      "text/plain": [
       "Dataset({\n",
       "    features: ['sentence1', 'sentence2', 'score', 'metadata', 'original_source', 'translation_model'],\n",
       "    num_rows: 200000\n",
       "})"
      ]
     },
     "execution_count": 15,
     "metadata": {},
     "output_type": "execute_result"
    }
   ],
   "source": [
    "new_dataset"
   ]
  },
  {
   "cell_type": "code",
   "execution_count": 16,
   "metadata": {},
   "outputs": [],
   "source": [
    "# Define new column order\n",
    "new_column_order = [\"sentence1\", \"sentence2\", \"score\", \"original_source\", \"translation_model\", \"metadata\"]\n",
    "\n",
    "# Reorder dataset columns\n",
    "new_dataset = new_dataset.select_columns(new_column_order)"
   ]
  },
  {
   "cell_type": "code",
   "execution_count": 17,
   "metadata": {},
   "outputs": [
    {
     "data": {
      "text/plain": [
       "{'sentence1': 'ولكن كتعرف--أنا تقريبا ما كنحبش نقول هادشي--\"',\n",
       " 'sentence2': 'ما مرتاحش نقول هاد الشي.',\n",
       " 'score': 1.0,\n",
       " 'original_source': 'sentence-transformers/all-nli--pair-score',\n",
       " 'translation_model': 'BounharAbdelaziz/Terjman-Ultra-v2.2',\n",
       " 'metadata': {'score': 1.0,\n",
       "  'sentence1_en': 'But you know--I almost hate to say this--\"',\n",
       "  'sentence2_en': \"I'm not all comfortable saying this.\"}}"
      ]
     },
     "execution_count": 17,
     "metadata": {},
     "output_type": "execute_result"
    }
   ],
   "source": [
    "new_dataset[0]"
   ]
  },
  {
   "cell_type": "code",
   "execution_count": 19,
   "metadata": {},
   "outputs": [
    {
     "name": "stderr",
     "output_type": "stream",
     "text": [
      "Creating parquet from Arrow format: 100%|██████████| 200/200 [00:00<00:00, 501.93ba/s]\n",
      "Uploading the dataset shards: 100%|██████████| 1/1 [00:00<00:00,  1.35it/s]\n",
      "No files have been modified since last commit. Skipping to prevent empty commit.\n"
     ]
    },
    {
     "data": {
      "text/plain": [
       "CommitInfo(commit_url='https://huggingface.co/datasets/atlasia/Sentence-Transformers-Morocco-Darija/commit/e7eb8ffc94b87b96ec8640b721799125e2de4485', commit_message='Added (sentence1, sentence2, score) from sentence-transformers/all-nli--pair-score using BounharAbdelaziz/Terjman-Ultra-v2.2', commit_description='', oid='e7eb8ffc94b87b96ec8640b721799125e2de4485', pr_url=None, repo_url=RepoUrl('https://huggingface.co/datasets/atlasia/Sentence-Transformers-Morocco-Darija', endpoint='https://huggingface.co', repo_type='dataset', repo_id='atlasia/Sentence-Transformers-Morocco-Darija'), pr_revision=None, pr_num=None)"
      ]
     },
     "execution_count": 19,
     "metadata": {},
     "output_type": "execute_result"
    }
   ],
   "source": [
    "new_dataset.push_to_hub(\n",
    "    'atlasia/Sentence-Transformers-Morocco-Darija',\n",
    "    config_name='pair-score',\n",
    "    commit_message=f'Added (sentence1, sentence2, score) from {BASE_DATASET} using {TRANS_MODEL}'\n",
    ")"
   ]
  }
 ],
 "metadata": {
  "kernelspec": {
   "display_name": "Python 3",
   "language": "python",
   "name": "python3"
  },
  "language_info": {
   "codemirror_mode": {
    "name": "ipython",
    "version": 3
   },
   "file_extension": ".py",
   "mimetype": "text/x-python",
   "name": "python",
   "nbconvert_exporter": "python",
   "pygments_lexer": "ipython3",
   "version": "3.12.3"
  }
 },
 "nbformat": 4,
 "nbformat_minor": 2
}
